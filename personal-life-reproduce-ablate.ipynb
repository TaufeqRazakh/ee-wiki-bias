{
 "cells": [
  {
   "cell_type": "markdown",
   "metadata": {},
   "source": [
    "### this script is to extract events using odds ratio, do calibration based on the templates and finally plot the figures that will be needed in the paper"
   ]
  },
  {
   "cell_type": "code",
   "execution_count": 1,
   "metadata": {},
   "outputs": [],
   "source": [
    "import pandas as pd\n",
    "df_m = pd.read_csv(\"data/ee-fm/df_m.csv\")\n",
    "df_f = pd.read_csv(\"data/ee-fm/df_f.csv\")"
   ]
  },
  {
   "cell_type": "code",
   "execution_count": 2,
   "metadata": {},
   "outputs": [],
   "source": [
    "import itertools\n",
    "import spacy\n",
    "import ast \n",
    "\n",
    "# nlp = spacy.load('en') # JULIE edits: remove nlp and replace nlp with sp\n",
    "sp = spacy.load('en_core_web_sm')\n",
    "all_stopwords = sp.Defaults.stop_words\n",
    "\n",
    "def chain(array):\n",
    "    array = ast.literal_eval(array)\n",
    "    return list(itertools.chain.from_iterable(array))\n",
    "\n",
    "def events_only(array):\n",
    "    events = []\n",
    "    if(len(array) > 0):\n",
    "        for event in array:\n",
    "            trigger_word = event[\"triggers\"][0][\"text\"]\n",
    "            w = sp(trigger_word)\n",
    "            if w[0].lemma_ not in all_stopwords:\n",
    "                events.append(w[0].lemma_)\n",
    "    return events"
   ]
  },
  {
   "cell_type": "code",
   "execution_count": 3,
   "metadata": {},
   "outputs": [
    {
     "data": {
      "text/html": [
       "<div>\n",
       "<style scoped>\n",
       "    .dataframe tbody tr th:only-of-type {\n",
       "        vertical-align: middle;\n",
       "    }\n",
       "\n",
       "    .dataframe tbody tr th {\n",
       "        vertical-align: top;\n",
       "    }\n",
       "\n",
       "    .dataframe thead th {\n",
       "        text-align: right;\n",
       "    }\n",
       "</style>\n",
       "<table border=\"1\" class=\"dataframe\">\n",
       "  <thead>\n",
       "    <tr style=\"text-align: right;\">\n",
       "      <th></th>\n",
       "      <th>Unnamed: 0</th>\n",
       "      <th>Unnamed: 0.1</th>\n",
       "      <th>name</th>\n",
       "      <th>name_url</th>\n",
       "      <th>gender</th>\n",
       "      <th>person_info</th>\n",
       "      <th>personal_life</th>\n",
       "      <th>career</th>\n",
       "      <th>occupation</th>\n",
       "      <th>pl_events</th>\n",
       "      <th>pl_ev_lemma</th>\n",
       "      <th>career_events</th>\n",
       "      <th>career_ev_lemma</th>\n",
       "    </tr>\n",
       "  </thead>\n",
       "  <tbody>\n",
       "    <tr>\n",
       "      <th>0</th>\n",
       "      <td>0</td>\n",
       "      <td>0</td>\n",
       "      <td>Jody Adams (chef)</td>\n",
       "      <td>https://en.wikipedia.org/wiki/Jody_Adams_(chef)</td>\n",
       "      <td>F</td>\n",
       "      <td>[{'section': 'Career', 'info': ['In 2011, Adam...</td>\n",
       "      <td>[]</td>\n",
       "      <td>[[{'event_type': 'Business:Start-Org', 'trigge...</td>\n",
       "      <td>chefs</td>\n",
       "      <td>[]</td>\n",
       "      <td>[]</td>\n",
       "      <td>[{'event_type': 'Business:Start-Org', 'trigger...</td>\n",
       "      <td>['open', 'open', 'provide', 'illustrate']</td>\n",
       "    </tr>\n",
       "    <tr>\n",
       "      <th>1</th>\n",
       "      <td>1</td>\n",
       "      <td>1</td>\n",
       "      <td>Einat Admony</td>\n",
       "      <td>https://en.wikipedia.org/wiki/Einat_Admony</td>\n",
       "      <td>F</td>\n",
       "      <td>[{'section': 'Early life', 'info': ['Admony is...</td>\n",
       "      <td>[]</td>\n",
       "      <td>[[{'event_type': 'Business:Start-Org', 'trigge...</td>\n",
       "      <td>chefs</td>\n",
       "      <td>[]</td>\n",
       "      <td>[]</td>\n",
       "      <td>[{'event_type': 'Business:Start-Org', 'trigger...</td>\n",
       "      <td>['open', 'introduce', 'list', 'appear', 'retur...</td>\n",
       "    </tr>\n",
       "    <tr>\n",
       "      <th>2</th>\n",
       "      <td>2</td>\n",
       "      <td>2</td>\n",
       "      <td>Karen Akunowicz</td>\n",
       "      <td>https://en.wikipedia.org/wiki/Karen_Akunowicz</td>\n",
       "      <td>F</td>\n",
       "      <td>[{'section': 'References', 'info': []}]</td>\n",
       "      <td>[]</td>\n",
       "      <td>[]</td>\n",
       "      <td>chefs</td>\n",
       "      <td>[]</td>\n",
       "      <td>[]</td>\n",
       "      <td>[]</td>\n",
       "      <td>[]</td>\n",
       "    </tr>\n",
       "    <tr>\n",
       "      <th>3</th>\n",
       "      <td>3</td>\n",
       "      <td>3</td>\n",
       "      <td>Devin Alexander</td>\n",
       "      <td>https://en.wikipedia.org/wiki/Devin_Alexander</td>\n",
       "      <td>F</td>\n",
       "      <td>[{'section': 'Biography', 'info': ['In 2006, s...</td>\n",
       "      <td>[]</td>\n",
       "      <td>[]</td>\n",
       "      <td>chefs</td>\n",
       "      <td>[]</td>\n",
       "      <td>[]</td>\n",
       "      <td>[]</td>\n",
       "      <td>[]</td>\n",
       "    </tr>\n",
       "    <tr>\n",
       "      <th>4</th>\n",
       "      <td>4</td>\n",
       "      <td>4</td>\n",
       "      <td>Fatima Ali</td>\n",
       "      <td>https://en.wikipedia.org/wiki/Fatima_Ali</td>\n",
       "      <td>F</td>\n",
       "      <td>[{'section': 'Early life', 'info': [\"Fatima Al...</td>\n",
       "      <td>[]</td>\n",
       "      <td>[[{'event_type': '', 'triggers': [{'event_type...</td>\n",
       "      <td>chefs</td>\n",
       "      <td>[]</td>\n",
       "      <td>[]</td>\n",
       "      <td>[{'event_type': '', 'triggers': [{'event_type'...</td>\n",
       "      <td>['continue', 'begin', 'win', 'vote', 'finish']</td>\n",
       "    </tr>\n",
       "    <tr>\n",
       "      <th>...</th>\n",
       "      <td>...</td>\n",
       "      <td>...</td>\n",
       "      <td>...</td>\n",
       "      <td>...</td>\n",
       "      <td>...</td>\n",
       "      <td>...</td>\n",
       "      <td>...</td>\n",
       "      <td>...</td>\n",
       "      <td>...</td>\n",
       "      <td>...</td>\n",
       "      <td>...</td>\n",
       "      <td>...</td>\n",
       "      <td>...</td>\n",
       "    </tr>\n",
       "    <tr>\n",
       "      <th>5271</th>\n",
       "      <td>5271</td>\n",
       "      <td>925</td>\n",
       "      <td>Diana Wynyard</td>\n",
       "      <td>/wiki/Diana_Wynyard</td>\n",
       "      <td>F</td>\n",
       "      <td>[{'section': 'Life and career', 'info': ['Born...</td>\n",
       "      <td>[[{'event_type': 'Life:Marry', 'triggers': [{'...</td>\n",
       "      <td>[]</td>\n",
       "      <td>acting</td>\n",
       "      <td>[{'event_type': 'Life:Marry', 'triggers': [{'e...</td>\n",
       "      <td>['married', 'die', 'rehearse', 'replace', 'dea...</td>\n",
       "      <td>[]</td>\n",
       "      <td>[]</td>\n",
       "    </tr>\n",
       "    <tr>\n",
       "      <th>5272</th>\n",
       "      <td>5272</td>\n",
       "      <td>926</td>\n",
       "      <td>Susannah York</td>\n",
       "      <td>/wiki/Susannah_York</td>\n",
       "      <td>F</td>\n",
       "      <td>[{'section': 'Early life', 'info': [\"York was ...</td>\n",
       "      <td>[[{'event_type': 'Life:Marry', 'triggers': [{'...</td>\n",
       "      <td>[[{'event_type': '', 'triggers': [{'event_type...</td>\n",
       "      <td>acting</td>\n",
       "      <td>[{'event_type': 'Life:Marry', 'triggers': [{'e...</td>\n",
       "      <td>['married', 'divorce', 'bear', 'play', 'evoke'...</td>\n",
       "      <td>[{'event_type': '', 'triggers': [{'event_type'...</td>\n",
       "      <td>['play', 'begin', 'perform', 'agree', 'appear'...</td>\n",
       "    </tr>\n",
       "    <tr>\n",
       "      <th>5273</th>\n",
       "      <td>5273</td>\n",
       "      <td>929</td>\n",
       "      <td>Loretta Young</td>\n",
       "      <td>/wiki/Loretta_Young</td>\n",
       "      <td>F</td>\n",
       "      <td>[{'section': 'Early life', 'info': ['She was b...</td>\n",
       "      <td>[[{'event_type': 'Life:Marry', 'triggers': [{'...</td>\n",
       "      <td>[[], [{'event_type': 'Life:Marry', 'triggers':...</td>\n",
       "      <td>acting</td>\n",
       "      <td>[{'event_type': 'Life:Marry', 'triggers': [{'e...</td>\n",
       "      <td>['married', 'marriage', 'marriage', 'married',...</td>\n",
       "      <td>[{'event_type': 'Life:Marry', 'triggers': [{'e...</td>\n",
       "      <td>['married', 'marriage', 'marry', 'annul', 'elo...</td>\n",
       "    </tr>\n",
       "    <tr>\n",
       "      <th>5274</th>\n",
       "      <td>5274</td>\n",
       "      <td>931</td>\n",
       "      <td>Renée Zellweger</td>\n",
       "      <td>/wiki/Ren%C3%A9e_Zellweger</td>\n",
       "      <td>F</td>\n",
       "      <td>[{'section': 'Early life', 'info': ['Renée Kat...</td>\n",
       "      <td>[[{'event_type': 'Life:Marry', 'triggers': [{'...</td>\n",
       "      <td>[[{'event_type': 'Life:Die', 'triggers': [{'ev...</td>\n",
       "      <td>acting</td>\n",
       "      <td>[{'event_type': 'Life:Marry', 'triggers': [{'e...</td>\n",
       "      <td>['married', 'engage', 'obtain', 'meet', 'separ...</td>\n",
       "      <td>[{'event_type': 'Life:Die', 'triggers': [{'eve...</td>\n",
       "      <td>['kill', 'receive', 'note', 'applaud', 'play',...</td>\n",
       "    </tr>\n",
       "    <tr>\n",
       "      <th>5275</th>\n",
       "      <td>5275</td>\n",
       "      <td>932</td>\n",
       "      <td>Catherine Zeta-Jones</td>\n",
       "      <td>/wiki/Catherine_Zeta-Jones</td>\n",
       "      <td>F</td>\n",
       "      <td>[{'section': 'Early life and initial stage car...</td>\n",
       "      <td>[[{'event_type': '', 'triggers': [{'event_type...</td>\n",
       "      <td>[[{'event_type': '', 'triggers': [{'event_type...</td>\n",
       "      <td>acting</td>\n",
       "      <td>[{'event_type': '', 'triggers': [{'event_type'...</td>\n",
       "      <td>['chronicle', 'report', 'meet', 'engage', 'mar...</td>\n",
       "      <td>[{'event_type': '', 'triggers': [{'event_type'...</td>\n",
       "      <td>['recount', 'receive', 'feature', 'relocate', ...</td>\n",
       "    </tr>\n",
       "  </tbody>\n",
       "</table>\n",
       "<p>5276 rows × 13 columns</p>\n",
       "</div>"
      ],
      "text/plain": [
       "      Unnamed: 0  Unnamed: 0.1                  name  \\\n",
       "0              0             0     Jody Adams (chef)   \n",
       "1              1             1          Einat Admony   \n",
       "2              2             2       Karen Akunowicz   \n",
       "3              3             3       Devin Alexander   \n",
       "4              4             4            Fatima Ali   \n",
       "...          ...           ...                   ...   \n",
       "5271        5271           925         Diana Wynyard   \n",
       "5272        5272           926         Susannah York   \n",
       "5273        5273           929         Loretta Young   \n",
       "5274        5274           931       Renée Zellweger   \n",
       "5275        5275           932  Catherine Zeta-Jones   \n",
       "\n",
       "                                             name_url gender  \\\n",
       "0     https://en.wikipedia.org/wiki/Jody_Adams_(chef)      F   \n",
       "1          https://en.wikipedia.org/wiki/Einat_Admony      F   \n",
       "2       https://en.wikipedia.org/wiki/Karen_Akunowicz      F   \n",
       "3       https://en.wikipedia.org/wiki/Devin_Alexander      F   \n",
       "4            https://en.wikipedia.org/wiki/Fatima_Ali      F   \n",
       "...                                               ...    ...   \n",
       "5271                              /wiki/Diana_Wynyard      F   \n",
       "5272                              /wiki/Susannah_York      F   \n",
       "5273                              /wiki/Loretta_Young      F   \n",
       "5274                       /wiki/Ren%C3%A9e_Zellweger      F   \n",
       "5275                       /wiki/Catherine_Zeta-Jones      F   \n",
       "\n",
       "                                            person_info  \\\n",
       "0     [{'section': 'Career', 'info': ['In 2011, Adam...   \n",
       "1     [{'section': 'Early life', 'info': ['Admony is...   \n",
       "2               [{'section': 'References', 'info': []}]   \n",
       "3     [{'section': 'Biography', 'info': ['In 2006, s...   \n",
       "4     [{'section': 'Early life', 'info': [\"Fatima Al...   \n",
       "...                                                 ...   \n",
       "5271  [{'section': 'Life and career', 'info': ['Born...   \n",
       "5272  [{'section': 'Early life', 'info': [\"York was ...   \n",
       "5273  [{'section': 'Early life', 'info': ['She was b...   \n",
       "5274  [{'section': 'Early life', 'info': ['Renée Kat...   \n",
       "5275  [{'section': 'Early life and initial stage car...   \n",
       "\n",
       "                                          personal_life  \\\n",
       "0                                                    []   \n",
       "1                                                    []   \n",
       "2                                                    []   \n",
       "3                                                    []   \n",
       "4                                                    []   \n",
       "...                                                 ...   \n",
       "5271  [[{'event_type': 'Life:Marry', 'triggers': [{'...   \n",
       "5272  [[{'event_type': 'Life:Marry', 'triggers': [{'...   \n",
       "5273  [[{'event_type': 'Life:Marry', 'triggers': [{'...   \n",
       "5274  [[{'event_type': 'Life:Marry', 'triggers': [{'...   \n",
       "5275  [[{'event_type': '', 'triggers': [{'event_type...   \n",
       "\n",
       "                                                 career occupation  \\\n",
       "0     [[{'event_type': 'Business:Start-Org', 'trigge...      chefs   \n",
       "1     [[{'event_type': 'Business:Start-Org', 'trigge...      chefs   \n",
       "2                                                    []      chefs   \n",
       "3                                                    []      chefs   \n",
       "4     [[{'event_type': '', 'triggers': [{'event_type...      chefs   \n",
       "...                                                 ...        ...   \n",
       "5271                                                 []     acting   \n",
       "5272  [[{'event_type': '', 'triggers': [{'event_type...     acting   \n",
       "5273  [[], [{'event_type': 'Life:Marry', 'triggers':...     acting   \n",
       "5274  [[{'event_type': 'Life:Die', 'triggers': [{'ev...     acting   \n",
       "5275  [[{'event_type': '', 'triggers': [{'event_type...     acting   \n",
       "\n",
       "                                              pl_events  \\\n",
       "0                                                    []   \n",
       "1                                                    []   \n",
       "2                                                    []   \n",
       "3                                                    []   \n",
       "4                                                    []   \n",
       "...                                                 ...   \n",
       "5271  [{'event_type': 'Life:Marry', 'triggers': [{'e...   \n",
       "5272  [{'event_type': 'Life:Marry', 'triggers': [{'e...   \n",
       "5273  [{'event_type': 'Life:Marry', 'triggers': [{'e...   \n",
       "5274  [{'event_type': 'Life:Marry', 'triggers': [{'e...   \n",
       "5275  [{'event_type': '', 'triggers': [{'event_type'...   \n",
       "\n",
       "                                            pl_ev_lemma  \\\n",
       "0                                                    []   \n",
       "1                                                    []   \n",
       "2                                                    []   \n",
       "3                                                    []   \n",
       "4                                                    []   \n",
       "...                                                 ...   \n",
       "5271  ['married', 'die', 'rehearse', 'replace', 'dea...   \n",
       "5272  ['married', 'divorce', 'bear', 'play', 'evoke'...   \n",
       "5273  ['married', 'marriage', 'marriage', 'married',...   \n",
       "5274  ['married', 'engage', 'obtain', 'meet', 'separ...   \n",
       "5275  ['chronicle', 'report', 'meet', 'engage', 'mar...   \n",
       "\n",
       "                                          career_events  \\\n",
       "0     [{'event_type': 'Business:Start-Org', 'trigger...   \n",
       "1     [{'event_type': 'Business:Start-Org', 'trigger...   \n",
       "2                                                    []   \n",
       "3                                                    []   \n",
       "4     [{'event_type': '', 'triggers': [{'event_type'...   \n",
       "...                                                 ...   \n",
       "5271                                                 []   \n",
       "5272  [{'event_type': '', 'triggers': [{'event_type'...   \n",
       "5273  [{'event_type': 'Life:Marry', 'triggers': [{'e...   \n",
       "5274  [{'event_type': 'Life:Die', 'triggers': [{'eve...   \n",
       "5275  [{'event_type': '', 'triggers': [{'event_type'...   \n",
       "\n",
       "                                        career_ev_lemma  \n",
       "0             ['open', 'open', 'provide', 'illustrate']  \n",
       "1     ['open', 'introduce', 'list', 'appear', 'retur...  \n",
       "2                                                    []  \n",
       "3                                                    []  \n",
       "4        ['continue', 'begin', 'win', 'vote', 'finish']  \n",
       "...                                                 ...  \n",
       "5271                                                 []  \n",
       "5272  ['play', 'begin', 'perform', 'agree', 'appear'...  \n",
       "5273  ['married', 'marriage', 'marry', 'annul', 'elo...  \n",
       "5274  ['kill', 'receive', 'note', 'applaud', 'play',...  \n",
       "5275  ['recount', 'receive', 'feature', 'relocate', ...  \n",
       "\n",
       "[5276 rows x 13 columns]"
      ]
     },
     "execution_count": 3,
     "metadata": {},
     "output_type": "execute_result"
    }
   ],
   "source": [
    "df_f"
   ]
  },
  {
   "cell_type": "code",
   "execution_count": 4,
   "metadata": {},
   "outputs": [],
   "source": [
    "def extract_events(df_nomi_female):\n",
    "    # JULIE edits: comment out the first four lines because they are already calculated in the provided dfs\n",
    "    # no need to redo \n",
    "    # saves computation power/cost \n",
    "#     df_nomi_female[\"pl_events\"] = df_nomi_female[\"personal_life\"].apply(ast.literal_eval)\n",
    "#     df_nomi_female[\"pl_ev_lemma\"] = df_nomi_female[\"pl_events\"].apply(ast.literal_eval)\n",
    "#     df_nomi_female[\"career_events\"] = df_nomi_female[\"career\"].apply(chain)\n",
    "#     df_nomi_female[\"career_ev_lemma\"] = df_nomi_female[\"career_events\"].apply(events_only)\n",
    "    df_nomi_female[\"career_ev_lemma\"] = df_nomi_female[\"career_ev_lemma\"].apply(ast.literal_eval)\n",
    "    df_nomi_female[\"pl_ev_lemma\"] = df_nomi_female[\"pl_ev_lemma\"].apply(ast.literal_eval)\n",
    "    df_nomi_female[\"pl_ev_num\"] = df_nomi_female[\"pl_ev_lemma\"].apply(len)\n",
    "    df_nomi_female[\"cr_ev_num\"] = df_nomi_female[\"career_ev_lemma\"].apply(len)\n",
    "    return df_nomi_female"
   ]
  },
  {
   "cell_type": "markdown",
   "metadata": {},
   "source": [
    "## odds ratio calculation function\n",
    "### *--------------------------------------------------------*"
   ]
  },
  {
   "cell_type": "code",
   "execution_count": 5,
   "metadata": {},
   "outputs": [],
   "source": [
    "from collections import OrderedDict\n",
    "def odds_ratio(f_dict, m_dict, topk=50, threshold=2):\n",
    "    very_small_value = 0.00001\n",
    "    if len(f_dict.keys()) != len(m_dict.keys()):\n",
    "        raise Exception(\"The category for analyzing the male and female should be the same!\")\n",
    "    else:\n",
    "        odds_ratio = {}\n",
    "        total_num_f = sum(f_dict.values())\n",
    "        total_num_m = sum(m_dict.values())\n",
    "        for key in f_dict.keys():\n",
    "            m_num = m_dict[key]\n",
    "            f_num = f_dict[key]\n",
    "            non_f_num = total_num_f - f_num\n",
    "            non_m_num = total_num_m - m_num\n",
    "            if f_num >= threshold and m_num >= threshold:\n",
    "                # we only consider the events where there are at least {thresohld} occurences for both gender\n",
    "                odds_ratio[key] = round((m_num / f_num) / (non_m_num / non_f_num), 2)\n",
    "            else:\n",
    "                continue\n",
    "        return OrderedDict(sorted(odds_ratio.items(), key=itemgetter(1), reverse=True)[:topk]), \\\n",
    "            OrderedDict(sorted(odds_ratio.items(), key=itemgetter(1))[:topk])"
   ]
  },
  {
   "cell_type": "markdown",
   "metadata": {},
   "source": [
    "### *--------------------------------------------------------*"
   ]
  },
  {
   "cell_type": "code",
   "execution_count": 6,
   "metadata": {},
   "outputs": [],
   "source": [
    "import pickle\n",
    "import itertools\n",
    "import spacy\n",
    "from operator import itemgetter\n",
    "from collections import Counter\n",
    "import logging\n",
    "from datetime import datetime\n",
    "import numpy as np"
   ]
  },
  {
   "cell_type": "code",
   "execution_count": 7,
   "metadata": {},
   "outputs": [],
   "source": [
    "df_m = extract_events(df_m)\n",
    "df_f = extract_events(df_f)"
   ]
  },
  {
   "cell_type": "code",
   "execution_count": 8,
   "metadata": {},
   "outputs": [
    {
     "data": {
      "text/plain": [
       "False    0.678165\n",
       "True     0.321835\n",
       "Name: pl_ev_num, dtype: float64"
      ]
     },
     "execution_count": 8,
     "metadata": {},
     "output_type": "execute_result"
    }
   ],
   "source": [
    "(df_f['pl_ev_num'] > 0).value_counts(normalize=True)"
   ]
  },
  {
   "cell_type": "code",
   "execution_count": 9,
   "metadata": {},
   "outputs": [
    {
     "data": {
      "text/plain": [
       "True     0.778999\n",
       "False    0.221001\n",
       "dtype: float64"
      ]
     },
     "execution_count": 9,
     "metadata": {},
     "output_type": "execute_result"
    }
   ],
   "source": [
    "((df_f['pl_ev_num'] == 0) | (df_f['cr_ev_num'] == 0)).value_counts(normalize=True)"
   ]
  },
  {
   "cell_type": "code",
   "execution_count": 10,
   "metadata": {},
   "outputs": [
    {
     "data": {
      "text/plain": [
       "True     0.824777\n",
       "False    0.175223\n",
       "dtype: float64"
      ]
     },
     "execution_count": 10,
     "metadata": {},
     "output_type": "execute_result"
    }
   ],
   "source": [
    "((df_m['pl_ev_num'] == 0) | (df_m['cr_ev_num'] == 0)).value_counts(normalize=True)"
   ]
  },
  {
   "cell_type": "code",
   "execution_count": 11,
   "metadata": {},
   "outputs": [
    {
     "data": {
      "text/plain": [
       "False    0.583776\n",
       "True     0.416224\n",
       "Name: cr_ev_num, dtype: float64"
      ]
     },
     "execution_count": 11,
     "metadata": {},
     "output_type": "execute_result"
    }
   ],
   "source": [
    "(df_f['cr_ev_num'] > 0).value_counts(normalize=True)"
   ]
  },
  {
   "cell_type": "code",
   "execution_count": 12,
   "metadata": {},
   "outputs": [
    {
     "data": {
      "text/plain": [
       "False    0.636761\n",
       "True     0.363239\n",
       "Name: cr_ev_num, dtype: float64"
      ]
     },
     "execution_count": 12,
     "metadata": {},
     "output_type": "execute_result"
    }
   ],
   "source": [
    "(df_m['cr_ev_num'] > 0).value_counts(normalize=True)"
   ]
  },
  {
   "cell_type": "code",
   "execution_count": 13,
   "metadata": {},
   "outputs": [
    {
     "data": {
      "text/plain": [
       "False    0.733441\n",
       "True     0.266559\n",
       "Name: pl_ev_num, dtype: float64"
      ]
     },
     "execution_count": 13,
     "metadata": {},
     "output_type": "execute_result"
    }
   ],
   "source": [
    "(df_m['pl_ev_num'] > 0).value_counts(normalize=True)"
   ]
  },
  {
   "cell_type": "code",
   "execution_count": 14,
   "metadata": {},
   "outputs": [
    {
     "name": "stderr",
     "output_type": "stream",
     "text": [
      "/usr/local/lib/python3.9/site-packages/seaborn/distributions.py:2619: FutureWarning: `distplot` is a deprecated function and will be removed in a future version. Please adapt your code to use either `displot` (a figure-level function with similar flexibility) or `histplot` (an axes-level function for histograms).\n",
      "  warnings.warn(msg, FutureWarning)\n"
     ]
    },
    {
     "data": {
      "text/plain": [
       "<AxesSubplot:xlabel='pl_ev_num', ylabel='Density'>"
      ]
     },
     "execution_count": 14,
     "metadata": {},
     "output_type": "execute_result"
    },
    {
     "data": {
      "image/png": "[encoded data removed]",
      "text/plain": [
       "<Figure size 432x288 with 1 Axes>"
      ]
     },
     "metadata": {
      "needs_background": "light"
     },
     "output_type": "display_data"
    }
   ],
   "source": [
    "import seaborn as sns\n",
    "sns.distplot(df_f['pl_ev_num'])"
   ]
  },
  {
   "cell_type": "code",
   "execution_count": 15,
   "metadata": {},
   "outputs": [
    {
     "data": {
      "text/html": [
       "<div>\n",
       "<style scoped>\n",
       "    .dataframe tbody tr th:only-of-type {\n",
       "        vertical-align: middle;\n",
       "    }\n",
       "\n",
       "    .dataframe tbody tr th {\n",
       "        vertical-align: top;\n",
       "    }\n",
       "\n",
       "    .dataframe thead th {\n",
       "        text-align: right;\n",
       "    }\n",
       "</style>\n",
       "<table border=\"1\" class=\"dataframe\">\n",
       "  <thead>\n",
       "    <tr style=\"text-align: right;\">\n",
       "      <th></th>\n",
       "      <th>Unnamed: 0</th>\n",
       "      <th>Unnamed: 0.1</th>\n",
       "      <th>name</th>\n",
       "      <th>name_url</th>\n",
       "      <th>gender</th>\n",
       "      <th>person_info</th>\n",
       "      <th>personal_life</th>\n",
       "      <th>career</th>\n",
       "      <th>occupation</th>\n",
       "      <th>pl_events</th>\n",
       "      <th>pl_ev_lemma</th>\n",
       "      <th>career_events</th>\n",
       "      <th>career_ev_lemma</th>\n",
       "      <th>pl_ev_num</th>\n",
       "      <th>cr_ev_num</th>\n",
       "    </tr>\n",
       "  </thead>\n",
       "  <tbody>\n",
       "    <tr>\n",
       "      <th>0</th>\n",
       "      <td>0</td>\n",
       "      <td>0</td>\n",
       "      <td>Jody Adams (chef)</td>\n",
       "      <td>https://en.wikipedia.org/wiki/Jody_Adams_(chef)</td>\n",
       "      <td>F</td>\n",
       "      <td>[{'section': 'Career', 'info': ['In 2011, Adam...</td>\n",
       "      <td>[]</td>\n",
       "      <td>[[{'event_type': 'Business:Start-Org', 'trigge...</td>\n",
       "      <td>chefs</td>\n",
       "      <td>[]</td>\n",
       "      <td>[]</td>\n",
       "      <td>[{'event_type': 'Business:Start-Org', 'trigger...</td>\n",
       "      <td>[open, open, provide, illustrate]</td>\n",
       "      <td>0</td>\n",
       "      <td>4</td>\n",
       "    </tr>\n",
       "    <tr>\n",
       "      <th>1</th>\n",
       "      <td>1</td>\n",
       "      <td>1</td>\n",
       "      <td>Einat Admony</td>\n",
       "      <td>https://en.wikipedia.org/wiki/Einat_Admony</td>\n",
       "      <td>F</td>\n",
       "      <td>[{'section': 'Early life', 'info': ['Admony is...</td>\n",
       "      <td>[]</td>\n",
       "      <td>[[{'event_type': 'Business:Start-Org', 'trigge...</td>\n",
       "      <td>chefs</td>\n",
       "      <td>[]</td>\n",
       "      <td>[]</td>\n",
       "      <td>[{'event_type': 'Business:Start-Org', 'trigger...</td>\n",
       "      <td>[open, introduce, list, appear, return, compet...</td>\n",
       "      <td>0</td>\n",
       "      <td>8</td>\n",
       "    </tr>\n",
       "    <tr>\n",
       "      <th>2</th>\n",
       "      <td>2</td>\n",
       "      <td>2</td>\n",
       "      <td>Karen Akunowicz</td>\n",
       "      <td>https://en.wikipedia.org/wiki/Karen_Akunowicz</td>\n",
       "      <td>F</td>\n",
       "      <td>[{'section': 'References', 'info': []}]</td>\n",
       "      <td>[]</td>\n",
       "      <td>[]</td>\n",
       "      <td>chefs</td>\n",
       "      <td>[]</td>\n",
       "      <td>[]</td>\n",
       "      <td>[]</td>\n",
       "      <td>[]</td>\n",
       "      <td>0</td>\n",
       "      <td>0</td>\n",
       "    </tr>\n",
       "    <tr>\n",
       "      <th>3</th>\n",
       "      <td>3</td>\n",
       "      <td>3</td>\n",
       "      <td>Devin Alexander</td>\n",
       "      <td>https://en.wikipedia.org/wiki/Devin_Alexander</td>\n",
       "      <td>F</td>\n",
       "      <td>[{'section': 'Biography', 'info': ['In 2006, s...</td>\n",
       "      <td>[]</td>\n",
       "      <td>[]</td>\n",
       "      <td>chefs</td>\n",
       "      <td>[]</td>\n",
       "      <td>[]</td>\n",
       "      <td>[]</td>\n",
       "      <td>[]</td>\n",
       "      <td>0</td>\n",
       "      <td>0</td>\n",
       "    </tr>\n",
       "    <tr>\n",
       "      <th>4</th>\n",
       "      <td>4</td>\n",
       "      <td>4</td>\n",
       "      <td>Fatima Ali</td>\n",
       "      <td>https://en.wikipedia.org/wiki/Fatima_Ali</td>\n",
       "      <td>F</td>\n",
       "      <td>[{'section': 'Early life', 'info': [\"Fatima Al...</td>\n",
       "      <td>[]</td>\n",
       "      <td>[[{'event_type': '', 'triggers': [{'event_type...</td>\n",
       "      <td>chefs</td>\n",
       "      <td>[]</td>\n",
       "      <td>[]</td>\n",
       "      <td>[{'event_type': '', 'triggers': [{'event_type'...</td>\n",
       "      <td>[continue, begin, win, vote, finish]</td>\n",
       "      <td>0</td>\n",
       "      <td>5</td>\n",
       "    </tr>\n",
       "    <tr>\n",
       "      <th>...</th>\n",
       "      <td>...</td>\n",
       "      <td>...</td>\n",
       "      <td>...</td>\n",
       "      <td>...</td>\n",
       "      <td>...</td>\n",
       "      <td>...</td>\n",
       "      <td>...</td>\n",
       "      <td>...</td>\n",
       "      <td>...</td>\n",
       "      <td>...</td>\n",
       "      <td>...</td>\n",
       "      <td>...</td>\n",
       "      <td>...</td>\n",
       "      <td>...</td>\n",
       "      <td>...</td>\n",
       "    </tr>\n",
       "    <tr>\n",
       "      <th>5271</th>\n",
       "      <td>5271</td>\n",
       "      <td>925</td>\n",
       "      <td>Diana Wynyard</td>\n",
       "      <td>/wiki/Diana_Wynyard</td>\n",
       "      <td>F</td>\n",
       "      <td>[{'section': 'Life and career', 'info': ['Born...</td>\n",
       "      <td>[[{'event_type': 'Life:Marry', 'triggers': [{'...</td>\n",
       "      <td>[]</td>\n",
       "      <td>acting</td>\n",
       "      <td>[{'event_type': 'Life:Marry', 'triggers': [{'e...</td>\n",
       "      <td>[married, die, rehearse, replace, death, occur...</td>\n",
       "      <td>[]</td>\n",
       "      <td>[]</td>\n",
       "      <td>7</td>\n",
       "      <td>0</td>\n",
       "    </tr>\n",
       "    <tr>\n",
       "      <th>5272</th>\n",
       "      <td>5272</td>\n",
       "      <td>926</td>\n",
       "      <td>Susannah York</td>\n",
       "      <td>/wiki/Susannah_York</td>\n",
       "      <td>F</td>\n",
       "      <td>[{'section': 'Early life', 'info': [\"York was ...</td>\n",
       "      <td>[[{'event_type': 'Life:Marry', 'triggers': [{'...</td>\n",
       "      <td>[[{'event_type': '', 'triggers': [{'event_type...</td>\n",
       "      <td>acting</td>\n",
       "      <td>[{'event_type': 'Life:Marry', 'triggers': [{'e...</td>\n",
       "      <td>[married, divorce, bear, play, evoke, support,...</td>\n",
       "      <td>[{'event_type': '', 'triggers': [{'event_type'...</td>\n",
       "      <td>[play, begin, perform, agree, appear, play, fe...</td>\n",
       "      <td>8</td>\n",
       "      <td>35</td>\n",
       "    </tr>\n",
       "    <tr>\n",
       "      <th>5273</th>\n",
       "      <td>5273</td>\n",
       "      <td>929</td>\n",
       "      <td>Loretta Young</td>\n",
       "      <td>/wiki/Loretta_Young</td>\n",
       "      <td>F</td>\n",
       "      <td>[{'section': 'Early life', 'info': ['She was b...</td>\n",
       "      <td>[[{'event_type': 'Life:Marry', 'triggers': [{'...</td>\n",
       "      <td>[[], [{'event_type': 'Life:Marry', 'triggers':...</td>\n",
       "      <td>acting</td>\n",
       "      <td>[{'event_type': 'Life:Marry', 'triggers': [{'e...</td>\n",
       "      <td>[married, marriage, marriage, married, married...</td>\n",
       "      <td>[{'event_type': 'Life:Marry', 'triggers': [{'e...</td>\n",
       "      <td>[married, marriage, marry, annul, elope, bill,...</td>\n",
       "      <td>26</td>\n",
       "      <td>28</td>\n",
       "    </tr>\n",
       "    <tr>\n",
       "      <th>5274</th>\n",
       "      <td>5274</td>\n",
       "      <td>931</td>\n",
       "      <td>Renée Zellweger</td>\n",
       "      <td>/wiki/Ren%C3%A9e_Zellweger</td>\n",
       "      <td>F</td>\n",
       "      <td>[{'section': 'Early life', 'info': ['Renée Kat...</td>\n",
       "      <td>[[{'event_type': 'Life:Marry', 'triggers': [{'...</td>\n",
       "      <td>[[{'event_type': 'Life:Die', 'triggers': [{'ev...</td>\n",
       "      <td>acting</td>\n",
       "      <td>[{'event_type': 'Life:Marry', 'triggers': [{'e...</td>\n",
       "      <td>[married, engage, obtain, meet, separate, star...</td>\n",
       "      <td>[{'event_type': 'Life:Die', 'triggers': [{'eve...</td>\n",
       "      <td>[kill, receive, note, applaud, play, plan, rec...</td>\n",
       "      <td>11</td>\n",
       "      <td>75</td>\n",
       "    </tr>\n",
       "    <tr>\n",
       "      <th>5275</th>\n",
       "      <td>5275</td>\n",
       "      <td>932</td>\n",
       "      <td>Catherine Zeta-Jones</td>\n",
       "      <td>/wiki/Catherine_Zeta-Jones</td>\n",
       "      <td>F</td>\n",
       "      <td>[{'section': 'Early life and initial stage car...</td>\n",
       "      <td>[[{'event_type': '', 'triggers': [{'event_type...</td>\n",
       "      <td>[[{'event_type': '', 'triggers': [{'event_type...</td>\n",
       "      <td>acting</td>\n",
       "      <td>[{'event_type': '', 'triggers': [{'event_type'...</td>\n",
       "      <td>[chronicle, report, meet, engage, married, div...</td>\n",
       "      <td>[{'event_type': '', 'triggers': [{'event_type'...</td>\n",
       "      <td>[recount, receive, feature, relocate, read, de...</td>\n",
       "      <td>14</td>\n",
       "      <td>66</td>\n",
       "    </tr>\n",
       "  </tbody>\n",
       "</table>\n",
       "<p>5276 rows × 15 columns</p>\n",
       "</div>"
      ],
      "text/plain": [
       "      Unnamed: 0  Unnamed: 0.1                  name  \\\n",
       "0              0             0     Jody Adams (chef)   \n",
       "1              1             1          Einat Admony   \n",
       "2              2             2       Karen Akunowicz   \n",
       "3              3             3       Devin Alexander   \n",
       "4              4             4            Fatima Ali   \n",
       "...          ...           ...                   ...   \n",
       "5271        5271           925         Diana Wynyard   \n",
       "5272        5272           926         Susannah York   \n",
       "5273        5273           929         Loretta Young   \n",
       "5274        5274           931       Renée Zellweger   \n",
       "5275        5275           932  Catherine Zeta-Jones   \n",
       "\n",
       "                                             name_url gender  \\\n",
       "0     https://en.wikipedia.org/wiki/Jody_Adams_(chef)      F   \n",
       "1          https://en.wikipedia.org/wiki/Einat_Admony      F   \n",
       "2       https://en.wikipedia.org/wiki/Karen_Akunowicz      F   \n",
       "3       https://en.wikipedia.org/wiki/Devin_Alexander      F   \n",
       "4            https://en.wikipedia.org/wiki/Fatima_Ali      F   \n",
       "...                                               ...    ...   \n",
       "5271                              /wiki/Diana_Wynyard      F   \n",
       "5272                              /wiki/Susannah_York      F   \n",
       "5273                              /wiki/Loretta_Young      F   \n",
       "5274                       /wiki/Ren%C3%A9e_Zellweger      F   \n",
       "5275                       /wiki/Catherine_Zeta-Jones      F   \n",
       "\n",
       "                                            person_info  \\\n",
       "0     [{'section': 'Career', 'info': ['In 2011, Adam...   \n",
       "1     [{'section': 'Early life', 'info': ['Admony is...   \n",
       "2               [{'section': 'References', 'info': []}]   \n",
       "3     [{'section': 'Biography', 'info': ['In 2006, s...   \n",
       "4     [{'section': 'Early life', 'info': [\"Fatima Al...   \n",
       "...                                                 ...   \n",
       "5271  [{'section': 'Life and career', 'info': ['Born...   \n",
       "5272  [{'section': 'Early life', 'info': [\"York was ...   \n",
       "5273  [{'section': 'Early life', 'info': ['She was b...   \n",
       "5274  [{'section': 'Early life', 'info': ['Renée Kat...   \n",
       "5275  [{'section': 'Early life and initial stage car...   \n",
       "\n",
       "                                          personal_life  \\\n",
       "0                                                    []   \n",
       "1                                                    []   \n",
       "2                                                    []   \n",
       "3                                                    []   \n",
       "4                                                    []   \n",
       "...                                                 ...   \n",
       "5271  [[{'event_type': 'Life:Marry', 'triggers': [{'...   \n",
       "5272  [[{'event_type': 'Life:Marry', 'triggers': [{'...   \n",
       "5273  [[{'event_type': 'Life:Marry', 'triggers': [{'...   \n",
       "5274  [[{'event_type': 'Life:Marry', 'triggers': [{'...   \n",
       "5275  [[{'event_type': '', 'triggers': [{'event_type...   \n",
       "\n",
       "                                                 career occupation  \\\n",
       "0     [[{'event_type': 'Business:Start-Org', 'trigge...      chefs   \n",
       "1     [[{'event_type': 'Business:Start-Org', 'trigge...      chefs   \n",
       "2                                                    []      chefs   \n",
       "3                                                    []      chefs   \n",
       "4     [[{'event_type': '', 'triggers': [{'event_type...      chefs   \n",
       "...                                                 ...        ...   \n",
       "5271                                                 []     acting   \n",
       "5272  [[{'event_type': '', 'triggers': [{'event_type...     acting   \n",
       "5273  [[], [{'event_type': 'Life:Marry', 'triggers':...     acting   \n",
       "5274  [[{'event_type': 'Life:Die', 'triggers': [{'ev...     acting   \n",
       "5275  [[{'event_type': '', 'triggers': [{'event_type...     acting   \n",
       "\n",
       "                                              pl_events  \\\n",
       "0                                                    []   \n",
       "1                                                    []   \n",
       "2                                                    []   \n",
       "3                                                    []   \n",
       "4                                                    []   \n",
       "...                                                 ...   \n",
       "5271  [{'event_type': 'Life:Marry', 'triggers': [{'e...   \n",
       "5272  [{'event_type': 'Life:Marry', 'triggers': [{'e...   \n",
       "5273  [{'event_type': 'Life:Marry', 'triggers': [{'e...   \n",
       "5274  [{'event_type': 'Life:Marry', 'triggers': [{'e...   \n",
       "5275  [{'event_type': '', 'triggers': [{'event_type'...   \n",
       "\n",
       "                                            pl_ev_lemma  \\\n",
       "0                                                    []   \n",
       "1                                                    []   \n",
       "2                                                    []   \n",
       "3                                                    []   \n",
       "4                                                    []   \n",
       "...                                                 ...   \n",
       "5271  [married, die, rehearse, replace, death, occur...   \n",
       "5272  [married, divorce, bear, play, evoke, support,...   \n",
       "5273  [married, marriage, marriage, married, married...   \n",
       "5274  [married, engage, obtain, meet, separate, star...   \n",
       "5275  [chronicle, report, meet, engage, married, div...   \n",
       "\n",
       "                                          career_events  \\\n",
       "0     [{'event_type': 'Business:Start-Org', 'trigger...   \n",
       "1     [{'event_type': 'Business:Start-Org', 'trigger...   \n",
       "2                                                    []   \n",
       "3                                                    []   \n",
       "4     [{'event_type': '', 'triggers': [{'event_type'...   \n",
       "...                                                 ...   \n",
       "5271                                                 []   \n",
       "5272  [{'event_type': '', 'triggers': [{'event_type'...   \n",
       "5273  [{'event_type': 'Life:Marry', 'triggers': [{'e...   \n",
       "5274  [{'event_type': 'Life:Die', 'triggers': [{'eve...   \n",
       "5275  [{'event_type': '', 'triggers': [{'event_type'...   \n",
       "\n",
       "                                        career_ev_lemma  pl_ev_num  cr_ev_num  \n",
       "0                     [open, open, provide, illustrate]          0          4  \n",
       "1     [open, introduce, list, appear, return, compet...          0          8  \n",
       "2                                                    []          0          0  \n",
       "3                                                    []          0          0  \n",
       "4                  [continue, begin, win, vote, finish]          0          5  \n",
       "...                                                 ...        ...        ...  \n",
       "5271                                                 []          7          0  \n",
       "5272  [play, begin, perform, agree, appear, play, fe...          8         35  \n",
       "5273  [married, marriage, marry, annul, elope, bill,...         26         28  \n",
       "5274  [kill, receive, note, applaud, play, plan, rec...         11         75  \n",
       "5275  [recount, receive, feature, relocate, read, de...         14         66  \n",
       "\n",
       "[5276 rows x 15 columns]"
      ]
     },
     "execution_count": 15,
     "metadata": {},
     "output_type": "execute_result"
    }
   ],
   "source": [
    "df_f"
   ]
  },
  {
   "cell_type": "code",
   "execution_count": 16,
   "metadata": {},
   "outputs": [],
   "source": [
    "def calculate_dict(female_array, male_array):\n",
    "    counter_f_h = Counter(female_array)\n",
    "    counter_m_h = Counter(male_array)\n",
    "    \n",
    "    # make sure there is no key lookup error\n",
    "    for key in set(counter_f_h) - set(counter_m_h):\n",
    "        counter_m_h[key] = 0\n",
    "    for key in set(counter_m_h) - set(counter_f_h):\n",
    "        counter_f_h[key] = 0\n",
    "\n",
    "    return counter_f_h, counter_m_h"
   ]
  },
  {
   "cell_type": "code",
   "execution_count": 17,
   "metadata": {},
   "outputs": [],
   "source": [
    "def counter_odds_career(career_evs_female, career_evs_male):\n",
    "    counter_f_c, counter_m_c = calculate_dict(career_evs_female, career_evs_male)\n",
    "    odds_m_c, odds_f_c = odds_ratio(counter_f_c, counter_m_c)\n",
    "    return counter_f_c, counter_m_c, odds_m_c, odds_f_c\n",
    "\n",
    "def check_keyword(array):\n",
    "    return keyword in array"
   ]
  },
  {
   "cell_type": "code",
   "execution_count": 18,
   "metadata": {},
   "outputs": [],
   "source": [
    "# there are two ways to do the chain list function: one is applicable to career\n",
    "# the other is applicable to the personal life section, please choose the one based on the data\n",
    "# def chain_list(array):\n",
    "#     array_new = []\n",
    "#     for i in array:\n",
    "#         array_new.append(ast.literal_eval(i))\n",
    "#     return (list(itertools.chain.from_iterable(array_new)))\n",
    "\n",
    "# JULIE edits: commenting out this second definition of the function\n",
    "# because the first one works with the data format, not the second\n",
    "# this is also extremely poor programming practice\n",
    "\n",
    "def chain_list(array):\n",
    "    return list(itertools.chain.from_iterable(array))"
   ]
  },
  {
   "cell_type": "code",
   "execution_count": 21,
   "metadata": {},
   "outputs": [
    {
     "name": "stdout",
     "output_type": "stream",
     "text": [
      "occupation:  writers\n",
      "occupation:  acting\n",
      "occupation:  comedians\n",
      "occupation:  podcasters\n",
      "occupation:  dancers\n",
      "occupation:  artists\n",
      "occupation:  chefs\n",
      "occupation:  musicians\n"
     ]
    }
   ],
   "source": [
    "new_occupations = [\"writers\", \"acting\", \"comedians\", \"podcasters\", \"dancers\", \"artists\", \"chefs\", \"musicians\"]\n",
    "result_counter = {}\n",
    "result_odds = {}\n",
    "for new_occupation in new_occupations:\n",
    "    print(\"occupation: \", new_occupation)\n",
    "    df_m_occ, df_f_occ = df_m[df_m[\"occupation\"] == new_occupation], df_f[df_f[\"occupation\"] == new_occupation]\n",
    "    # to make sure there are equal size of celebrities \n",
    "    thres = min(len(df_m_occ), len(df_f_occ))\n",
    "    df_m_occ, df_f_occ = df_m_occ[:thres], df_f_occ[:thres]\n",
    "#     pl_evs_f, pl_evs_m = chain(df_female_ev[\"pl_ev_lemma\"]), chain(df_male_ev[\"pl_ev_lemma\"])\n",
    "    cr_evs_f = chain_list(df_f_occ[\"pl_ev_lemma\"].to_list())\n",
    "    cr_evs_m = chain_list(df_m_occ[\"pl_ev_lemma\"].to_list())\n",
    "    counter_f_c, counter_m_c, odds_m_c, odds_f_c = counter_odds_career(cr_evs_f, cr_evs_m)\n",
    "    result_counter[new_occupation] = {\n",
    "        \"female\": counter_f_c,\n",
    "        \"male\": counter_m_c\n",
    "    }\n",
    "    result_odds[new_occupation] = {\n",
    "        \"female\": odds_f_c,\n",
    "        \"male\": odds_m_c\n",
    "    }"
   ]
  },
  {
   "cell_type": "code",
   "execution_count": null,
   "id": "ca0b51f9",
   "metadata": {},
   "outputs": [
    {
     "data": {
      "text/plain": [
       "['meet', 'married', 'wedding', 'engage']"
      ]
     },
     "metadata": {},
     "output_type": "display_data"
    }
   ],
   "source": [
    "# Taufeq edits: Shift this to the bottom by ne cells. \n",
    "# Value previously undefined \n",
    "df_f_occ[\"pl_ev_lemma\"].values[0]"
   ]
  },
  {
   "cell_type": "code",
   "execution_count": 23,
   "metadata": {},
   "outputs": [
    {
     "name": "stdout",
     "output_type": "stream",
     "text": [
      "occupation:  writers\n",
      "**********female top 10**********\n",
      "['bury', 'die', 'birth', 'attend', 'war', 'grow', 'serve', 'appear', 'raise', 'begin']\n",
      "**********male top 10**********\n",
      "['know', 'report', 'come', 'charge', 'publish', 'suffer', 'claim', 'state', 'return', 'describe']\n",
      "occupation:  acting\n",
      "**********female top 10**********\n",
      "['pregnant', 'practice', 'wedding', 'record', 'convert', 'honor', 'battle', 'gain', 'retire', 'rap']\n",
      "**********male top 10**********\n",
      "['accuse', 'trip', 'fly', 'assault', 'endorse', 'award', 'meeting', 'donate', 'fight', 'arrest']\n",
      "occupation:  comedians\n",
      "**********female top 10**********\n",
      "['fall', 'open', 'diagnose', 'decide', 'birth', 'tweet', 'study', 'date', 'feel', 'turn']\n",
      "**********male top 10**********\n",
      "['create', 'spend', 'lawsuit', 'propose', 'accord', 'arrest', 'find', 'visit', 'sell', 'admit']\n",
      "occupation:  podcasters\n",
      "**********female top 10**********\n",
      "['date', 'describe', 'tell', 'life', 'come', 'leave', 'engage', 'live', 'work', 'start']\n",
      "**********male top 10**********\n",
      "['play', 'bear', 'write', 'release', 'claim', 'divorce', 'birth', 'meet', 'announce', 'run']\n",
      "occupation:  dancers\n",
      "**********female top 10**********\n",
      "['describe', 'diagnose', 'marry', 'play', 'speak', 'post', 'attend', 'expect', 'come', 'reside']\n",
      "**********male top 10**********\n",
      "['hold', 'involve', 'award', 'run', 'serve', 'adopt', 'charge', 'suit', 'struggle', 'perform']\n",
      "occupation:  artists\n",
      "**********female top 10**********\n",
      "['marriage', 'married', 'bear', 'die']\n",
      "**********male top 10**********\n",
      "['die', 'bear', 'married', 'marriage']\n",
      "occupation:  chefs\n",
      "**********female top 10**********\n",
      "['serve', 'announce', 'describe', 'bear', 'birth', 'die', 'life', 'death', 'state', 'marriage']\n",
      "**********male top 10**********\n",
      "['lose', 'divorce', 'work', 'meet', 'speak', 'engage', 'attend', 'diagnose', 'wedding', 'write']\n",
      "occupation:  musicians\n",
      "**********female top 10**********\n",
      "['die', 'married', 'meet', 'birth', 'marriage', 'live']\n",
      "**********male top 10**********\n",
      "['live', 'meet', 'birth', 'marriage', 'married', 'die']\n"
     ]
    }
   ],
   "source": [
    "for occupation in new_occupations:\n",
    "    print(\"occupation: \", occupation)\n",
    "    # before calibration\n",
    "    # \"female top 10\"\n",
    "    print(\"*\"*10 + \"female top 10\" + \"*\"*10)\n",
    "    print(list(result_odds[occupation][\"female\"].keys())[:10])\n",
    "    # \"male top 10\"\n",
    "    print(\"*\"*10 + \"male top 10\" + \"*\"*10)\n",
    "    print(list(result_odds[occupation][\"male\"].keys())[:10])\n"
   ]
  },
  {
   "cell_type": "markdown",
   "metadata": {},
   "source": [
    "## calibration step1: get <em>template sentences</em>"
   ]
  },
  {
   "cell_type": "code",
   "execution_count": 42,
   "metadata": {},
   "outputs": [],
   "source": [
    "# Taufeq edits: The author uses a paortion of the data as templates for \n",
    "# synthetic data generation. We ablate this part\n",
    "# final = pd.read_csv(\"data/final_manual.csv\")\n",
    "# templates = pd.DataFrame(final).drop_duplicates(subset=['Name', \"Gender\", \"Occupation\"])"
   ]
  },
  {
   "cell_type": "code",
   "execution_count": null,
   "metadata": {},
   "outputs": [],
   "source": [
    "# templates.head(10)"
   ]
  },
  {
   "cell_type": "code",
   "execution_count": 44,
   "metadata": {},
   "outputs": [],
   "source": [
    "# not reporting some of the occupations because of the small data size\n",
    "# selected_occupation = [\"dancers\", \"comedians\", \"podcasters\", \"writers\", \"artists\", \"musicians\", \"chefs\"]\n",
    "# select_templates = templates[templates[\"Occupation\"].isin(selected_occupation)]"
   ]
  },
  {
   "cell_type": "markdown",
   "metadata": {},
   "source": [
    "## calibration step 2: based on the <em>template sentences</em>, swap names and get new sentences for calibration"
   ]
  },
  {
   "cell_type": "code",
   "execution_count": 45,
   "metadata": {},
   "outputs": [],
   "source": [
    "import re \n",
    "import json\n",
    "\n",
    "def swap_female(current_name, current_gender, text, future_name, future_gender):\n",
    "    current_name = re.sub(\"[\\(\\[].*?[\\)\\]]\", \"\", current_name)\n",
    "    first_name = current_name.split(\" \")[-1]  \n",
    "    re_dict = {\n",
    "        first_name: future_name,\n",
    "    }\n",
    "    if current_gender == \"F\" and future_gender == \"M\":\n",
    "        re_dict[\"she\"] = \"he\"\n",
    "        re_dict[\"her\"] = \"his\"\n",
    "        re_dict[\"She\"] = \"He\"\n",
    "        re_dict[\"Her\"] = \"His\"\n",
    "    elif current_gender == \"M\" and future_gender == \"F\":\n",
    "        re_dict[\"he\"] = \"she\"\n",
    "        re_dict[\"his\"] = \"her\"\n",
    "        re_dict[\"him\"] = \"her\"\n",
    "        re_dict[\"He\"] = \"She\"\n",
    "        re_dict[\"His\"] = \"Her\"\n",
    "        \n",
    "#     print(re_dict) # JULIE edits: disable printing -- takes too long\n",
    " \n",
    "    new_tokens = []\n",
    "    for token in sp(text):\n",
    "        if token.text in re_dict.keys():\n",
    "            new_tokens.append(re_dict[token.text])\n",
    "        else:\n",
    "            new_tokens.append(token.text)\n",
    "    replaced_string = \" \".join(ele for ele in new_tokens)\n",
    "    return replaced_string"
   ]
  },
  {
   "cell_type": "code",
   "execution_count": 46,
   "metadata": {},
   "outputs": [],
   "source": [
    "# for single events, do event detection\n",
    "# JULIE edits: modify path name\n",
    "name_list = json.loads(open(\"data/names.json\", \"rb\").readlines()[0])\n",
    "\n",
    "# fifty sample names\n",
    "sample_name = 50\n",
    "male_names = name_list[\"men\"][:50]\n",
    "female_names = name_list[\"women\"][:50]"
   ]
  },
  {
   "cell_type": "code",
   "execution_count": 47,
   "metadata": {},
   "outputs": [],
   "source": [
    "# Taufeq edits: This code cell generates the synthetic data for different across both genders\n",
    "# Since we are conducting an ablation study sans calibration steps proposed by the paper\n",
    "# we do not go thorugh this code cell\n",
    "\n",
    "# gen_sen = []\n",
    "# for i, row in select_templates.iterrows():\n",
    "#     original_text = row[\"Text\"]\n",
    "#     cur_gender = row[\"Gender\"]\n",
    "#     cur_name = row[\"Name\"]\n",
    "#     f_gens = [\"M\", \"F\"]\n",
    "#     for f_gen in f_gens:\n",
    "#         if f_gen == \"M\":\n",
    "#             for name in male_names:\n",
    "#                 future_text =  swap_female(cur_name, cur_gender, original_text, name, f_gen)\n",
    "#                 gen_sen.append({\n",
    "#                     \"Event\":row[\"Event\"],\n",
    "#                     \"Name\": name,\n",
    "#                     \"Gender\": f_gen,\n",
    "#                     \"Occupation\": row[\"Occupation\"],\n",
    "#                     \"Keyword\": row[\"Keyword\"],\n",
    "#                     \"Text\": future_text\n",
    "#                 })\n",
    "#         if f_gen == \"F\":\n",
    "#             for name in female_names:\n",
    "#                 future_text =  swap_female(cur_name, cur_gender, original_text, name, f_gen)\n",
    "#                 gen_sen.append({\n",
    "#                     \"Event\":row[\"Event\"],\n",
    "#                     \"Name\": name,\n",
    "#                     \"Gender\": f_gen,\n",
    "#                     \"Occupation\": row[\"Occupation\"],\n",
    "#                     \"Keyword\": row[\"Keyword\"],\n",
    "#                     \"Text\": future_text\n",
    "#                 })"
   ]
  },
  {
   "cell_type": "code",
   "execution_count": 24,
   "metadata": {
    "scrolled": true
   },
   "outputs": [],
   "source": [
    "import pickle\n",
    "import pandas as pd\n",
    "\n",
    "# read the result\n",
    "result_list = []\n",
    "\n",
    "# Taufeq edits: skip over evenet extraction on synthetic data\n",
    "# for occupation in new_occupations:\n",
    "#     # to get this, you will need to run the event extraction model from Han et. al 2019.\n",
    "#     # JULIE edits: change path\n",
    "#     df = pickle.load(open(f\"data/ee-model/res_{occupation}.p\", \"rb\"))\n",
    "#     result = {}\n",
    "#     for key, group in df.groupby([\"Gender\", \"Keyword\"]):\n",
    "#         if group[\"Result\"].unique().tolist() == [False]:\n",
    "#             # for the case where target events in all templates all did not get detected\n",
    "#             # then do not calibrate this event and directly use the original occurence\n",
    "#             print(f\"not calibrating event {key[1]} for gender {key[0]}?\")\n",
    "#             print(\"Example: \", group[\"Text\"].tolist()[0])\n",
    "#         event = key[1]\n",
    "#         gender = key[0]\n",
    "#         if event not in result:\n",
    "#             print(f\"adding event {event}\")\n",
    "#             result[event] = {}\n",
    "#         percent = sum(group[\"Result\"].tolist()) / len(group[\"Result\"].tolist())\n",
    "#         result[event][gender] = percent\n",
    "#     result_list.append(result)"
   ]
  },
  {
   "cell_type": "markdown",
   "metadata": {},
   "source": [
    "## calculate the odds ratio again after getting the calibration result"
   ]
  },
  {
   "cell_type": "code",
   "execution_count": 26,
   "metadata": {},
   "outputs": [],
   "source": [
    "cali_result = {}\n",
    "for i in range(0, len(new_occupations)):\n",
    "    curr_occu = new_occupations[i]\n",
    "    if curr_occu not in cali_result:\n",
    "        cali_result[curr_occu] = {\n",
    "            \"F\": {},\n",
    "            \"M\": {}\n",
    "        }\n",
    "    #Taufeq edits: unused variable now \n",
    "    # cali_dict = result_list[i]\n",
    "    prev_counter_f = result_counter[new_occupations[i]][\"female\"]\n",
    "    for f_key in prev_counter_f.keys():\n",
    "        # Taufeq edits: In female articles retain the original counts obtained from \n",
    "        # the extraction model\n",
    "        # if f_key in cali_dict:\n",
    "            # if \"F\" in cali_dict[f_key]:\n",
    "                # percent = cali_dict[f_key][\"F\"]\n",
    "                # if percent != 0:\n",
    "                    # new_count = prev_counter_f[f_key] / percent\n",
    "                # else:\n",
    "                    # new_count = prev_counter_f[f_key] \n",
    "                # cali_result[curr_occu][\"F\"][f_key] = new_count\n",
    "            # else:\n",
    "                # cali_result[curr_occu][\"F\"][f_key] = prev_counter_f[f_key]\n",
    "        # else:\n",
    "        cali_result[curr_occu][\"F\"][f_key] = prev_counter_f[f_key]\n",
    "                \n",
    "    prev_counter_m = result_counter[new_occupations[i]][\"male\"]\n",
    "    for m_key in prev_counter_m.keys():\n",
    "        # Taufeq edits: In female retain the original counts obtained from \n",
    "        # the extraction model\n",
    "        # if m_key in cali_dict:\n",
    "        #     if \"M\" in cali_dict[m_key]:\n",
    "        #         percent = cali_dict[m_key][\"M\"]\n",
    "        #         if percent != 0:\n",
    "        #             new_count = prev_counter_m[m_key] / percent\n",
    "        #         else:\n",
    "        #             new_count = prev_counter_m[m_key] \n",
    "        #         cali_result[curr_occu][\"M\"][m_key] = new_count\n",
    "        #     else:\n",
    "        #         cali_result[curr_occu][\"M\"][m_key] = prev_counter_m[m_key]  \n",
    "        # else:\n",
    "        cali_result[curr_occu][\"M\"][m_key] = prev_counter_m[m_key]"
   ]
  },
  {
   "cell_type": "code",
   "execution_count": null,
   "metadata": {},
   "outputs": [],
   "source": []
  },
  {
   "cell_type": "markdown",
   "metadata": {},
   "source": [
    "## get the final result that is reported in the paper\n",
    "### also plot the bartchart of the calibration result"
   ]
  },
  {
   "cell_type": "code",
   "execution_count": 27,
   "metadata": {},
   "outputs": [
    {
     "name": "stdout",
     "output_type": "stream",
     "text": [
      "Occupation:  writers\n",
      "male:  ['know', 'report', 'come', 'charge', 'publish', 'suffer', 'claim', 'state', 'return', 'describe']\n",
      "female:  ['bury', 'die', 'birth', 'attend', 'war', 'grow', 'serve', 'appear', 'raise', 'begin']\n",
      "Occupation:  acting\n",
      "male:  ['accuse', 'trip', 'fly', 'assault', 'endorse', 'award', 'meeting', 'donate', 'fight', 'arrest']\n",
      "female:  ['pregnant', 'practice', 'wedding', 'record', 'convert', 'honor', 'battle', 'gain', 'retire', 'rap']\n",
      "Occupation:  comedians\n",
      "male:  ['create', 'spend', 'lawsuit', 'propose', 'accord', 'arrest', 'find', 'visit', 'sell', 'admit']\n",
      "female:  ['fall', 'open', 'diagnose', 'decide', 'birth', 'tweet', 'study', 'date', 'feel', 'turn']\n",
      "Occupation:  podcasters\n",
      "male:  ['play', 'bear', 'write', 'release', 'claim', 'divorce', 'birth', 'meet', 'announce', 'run']\n",
      "female:  ['date', 'describe', 'tell', 'life', 'come', 'leave', 'engage', 'live', 'work', 'start']\n",
      "Occupation:  dancers\n",
      "male:  ['hold', 'involve', 'award', 'run', 'serve', 'adopt', 'charge', 'suit', 'struggle', 'perform']\n",
      "female:  ['describe', 'diagnose', 'marry', 'play', 'speak', 'post', 'attend', 'expect', 'come', 'reside']\n",
      "Occupation:  artists\n",
      "male:  ['die', 'bear', 'married', 'marriage']\n",
      "female:  ['marriage', 'married', 'bear', 'die']\n",
      "Occupation:  chefs\n",
      "male:  ['lose', 'divorce', 'work', 'meet', 'speak', 'engage', 'attend', 'diagnose', 'wedding', 'write']\n",
      "female:  ['serve', 'announce', 'describe', 'bear', 'birth', 'die', 'life', 'death', 'state', 'marriage']\n",
      "Occupation:  musicians\n",
      "male:  ['live', 'meet', 'birth', 'marriage', 'married', 'die']\n",
      "female:  ['die', 'married', 'meet', 'birth', 'marriage', 'live']\n"
     ]
    },
    {
     "data": {
      "image/png": "[encoded data removed]",
      "text/plain": [
       "<Figure size 430.5x360 with 1 Axes>"
      ]
     },
     "metadata": {
      "needs_background": "light"
     },
     "output_type": "display_data"
    },
    {
     "data": {
      "image/png": "[encoded data removed]",
      "text/plain": [
       "<Figure size 430.5x360 with 1 Axes>"
      ]
     },
     "metadata": {
      "needs_background": "light"
     },
     "output_type": "display_data"
    },
    {
     "data": {
      "image/png": "[encoded data removed]",
      "text/plain": [
       "<Figure size 430.5x360 with 1 Axes>"
      ]
     },
     "metadata": {
      "needs_background": "light"
     },
     "output_type": "display_data"
    },
    {
     "data": {
      "image/png": "[encoded data removed]",
      "text/plain": [
       "<Figure size 430.5x360 with 1 Axes>"
      ]
     },
     "metadata": {
      "needs_background": "light"
     },
     "output_type": "display_data"
    },
    {
     "data": {
      "image/png": "[encoded data removed]",
      "text/plain": [
       "<Figure size 430.5x360 with 1 Axes>"
      ]
     },
     "metadata": {
      "needs_background": "light"
     },
     "output_type": "display_data"
    },
    {
     "data": {
      "image/png": "[encoded data removed]",
      "text/plain": [
       "<Figure size 430.5x360 with 1 Axes>"
      ]
     },
     "metadata": {
      "needs_background": "light"
     },
     "output_type": "display_data"
    },
    {
     "data": {
      "image/png": "[encoded data removed]",
      "text/plain": [
       "<Figure size 430.5x360 with 1 Axes>"
      ]
     },
     "metadata": {
      "needs_background": "light"
     },
     "output_type": "display_data"
    },
    {
     "data": {
      "image/png": "[encoded data removed]",
      "text/plain": [
       "<Figure size 430.5x360 with 1 Axes>"
      ]
     },
     "metadata": {
      "needs_background": "light"
     },
     "output_type": "display_data"
    },
    {
     "data": {
      "image/png": "[encoded data removed]",
      "text/plain": [
       "<Figure size 430.5x360 with 1 Axes>"
      ]
     },
     "metadata": {
      "needs_background": "light"
     },
     "output_type": "display_data"
    },
    {
     "data": {
      "image/png": "[encoded data removed]",
      "text/plain": [
       "<Figure size 430.5x360 with 1 Axes>"
      ]
     },
     "metadata": {
      "needs_background": "light"
     },
     "output_type": "display_data"
    },
    {
     "data": {
      "image/png": "[encoded data removed]",
      "text/plain": [
       "<Figure size 430.5x360 with 1 Axes>"
      ]
     },
     "metadata": {
      "needs_background": "light"
     },
     "output_type": "display_data"
    },
    {
     "data": {
      "image/png": "[encoded data removed]",
      "text/plain": [
       "<Figure size 430.5x360 with 1 Axes>"
      ]
     },
     "metadata": {
      "needs_background": "light"
     },
     "output_type": "display_data"
    },
    {
     "data": {
      "image/png": "[encoded data removed]",
      "text/plain": [
       "<Figure size 430.5x360 with 1 Axes>"
      ]
     },
     "metadata": {
      "needs_background": "light"
     },
     "output_type": "display_data"
    },
    {
     "data": {
      "image/png": "[encoded data removed]",
      "text/plain": [
       "<Figure size 430.5x360 with 1 Axes>"
      ]
     },
     "metadata": {
      "needs_background": "light"
     },
     "output_type": "display_data"
    },
    {
     "data": {
      "image/png": "[encoded data removed]",
      "text/plain": [
       "<Figure size 430.5x360 with 1 Axes>"
      ]
     },
     "metadata": {
      "needs_background": "light"
     },
     "output_type": "display_data"
    },
    {
     "data": {
      "image/png": "[encoded data removed]",
      "text/plain": [
       "<Figure size 430.5x360 with 1 Axes>"
      ]
     },
     "metadata": {
      "needs_background": "light"
     },
     "output_type": "display_data"
    }
   ],
   "source": [
    "import seaborn as sns\n",
    "import operator\n",
    "import matplotlib.pyplot as plt\n",
    "for occu in new_occupations:\n",
    "    print(\"Occupation: \", occu)\n",
    "    m_dict_occu, f_dict_occu = odds_ratio(cali_result[occu][\"F\"], cali_result[occu][\"M\"])\n",
    "    print(\"male: \", list(m_dict_occu.keys())[:10])\n",
    "    print(\"female: \", list(f_dict_occu.keys())[:10])\n",
    "    female_events = list(f_dict_occu.keys())[:5]\n",
    "    male_events = list(m_dict_occu.keys())[:5]\n",
    "    \n",
    "    sorted_counter_f_pl = {k: v for k, v in sorted(cali_result[occu][\"F\"].items(), key=lambda item: item[1], reverse=True)}\n",
    "    sorted_counter_m_pl = {k: v for k, v in sorted(cali_result[occu][\"M\"].items(), key=lambda item: item[1], reverse=True)}\n",
    "    m_topic_pl = list(sorted_counter_m_pl.keys())\n",
    "    f_topic_pl = list(sorted_counter_f_pl.keys())\n",
    "    for gender in [\"F\", \"M\"]:\n",
    "        position = []\n",
    "        if gender == \"F\":\n",
    "            select_events = female_events\n",
    "        else:\n",
    "            select_events = male_events\n",
    "        \n",
    "        for m_topic in select_events:\n",
    "            position.append({\n",
    "                \"percent\": m_topic_pl.index(m_topic) / len(m_topic_pl) * 100,\n",
    "                \"gender\": \"male\",\n",
    "                \"event\": m_topic\n",
    "                })\n",
    "            position.append({\n",
    "                \"percent\": f_topic_pl.index(m_topic) / len(m_topic_pl) * 100,\n",
    "                \"gender\": \"female\",\n",
    "                \"event\": m_topic\n",
    "                })\n",
    "\n",
    "        df = pd.DataFrame(position)\n",
    "        g = sns.catplot(x='event', y='percent', hue='gender', data=df, kind='bar', palette = sns.color_palette(\"pastel\"))\n",
    "        g.set_xticklabels(fontsize = 15, rotation=30)\n",
    "        g.set_yticklabels(fontsize = 15)\n",
    "        g.despine(left=True)    \n",
    "        # JULIE edits: don't need to save, just display\n",
    "        \n",
    "#         g.savefig(f\"pl_figs/{occu}_{gender}.pdf\", dpi=1000)\n",
    "plt.show()"
   ]
  },
  {
   "cell_type": "code",
   "execution_count": 30,
   "metadata": {},
   "outputs": [],
   "source": [
    "events='''Occupation:  writers\n",
    "male:  ['know', 'report', 'come', 'charge', 'publish', 'claim', 'suffer', 'return', 'state', 'describe']\n",
    "female:  ['bury', 'birth', 'attend', 'war', 'grow', 'serve', 'appear', 'raise', 'begin', 'divorce']\n",
    "Occupation:  acting\n",
    "male:  ['accuse', 'trip', 'fly', 'assault', 'endorse', 'meeting', 'donate', 'fight', 'arrest', 'found']\n",
    "female:  ['pregnant', 'practice', 'wedding', 'record', 'convert', 'honor', 'gain', 'retire', 'rap', 'bring']\n",
    "Occupation:  comedians\n",
    "male:  ['visit', 'create', 'spend', 'propose', 'lawsuit', 'accord', 'arrest', 'find', 'sell', 'admit']\n",
    "female:  ['feel', 'birth', 'fall', 'open', 'decide', 'date', 'diagnose', 'tweet', 'study', 'turn']\n",
    "Occupation:  podcasters\n",
    "male:  ['play', 'write', 'bear', 'release', 'claim', 'birth', 'divorce', 'meet', 'announce', 'work']\n",
    "female:  ['date', 'describe', 'tell', 'life', 'come', 'leave', 'engage', 'live', 'start', 'reside']\n",
    "Occupation:  dancers\n",
    "male:  ['hold', 'involve', 'award', 'run', 'serve', 'adopt', 'charge', 'suit', 'struggle', 'perform']\n",
    "female:  ['marry', 'describe', 'diagnose', 'expect', 'speak', 'post', 'attend', 'come', 'play', 'reside']\n",
    "Occupation:  artists\n",
    "male:  ['die', 'bear', 'married', 'marriage']\n",
    "female:  ['marriage', 'married', 'bear', 'die']\n",
    "Occupation:  chefs\n",
    "male:  ['birth', 'lose', 'divorce', 'speak', 'meet', 'work', 'diagnose', 'wedding', 'write', 'engage']\n",
    "female:  ['death', 'serve', 'announce', 'describe', 'bear', 'die', 'life', 'state', 'marriage', 'live']\n",
    "Occupation:  musicians\n",
    "male:  ['live', 'meet', 'birth', 'marriage', 'married', 'die']\n",
    "female:  ['die', 'married', 'meet', 'birth', 'marriage', 'live']'''"
   ]
  },
  {
   "cell_type": "code",
   "execution_count": 31,
   "metadata": {},
   "outputs": [
    {
     "data": {
      "text/plain": [
       "{('writers', 'male'): ['know',\n",
       "  'report',\n",
       "  'come',\n",
       "  'charge',\n",
       "  'publish',\n",
       "  'claim',\n",
       "  'suffer',\n",
       "  'return',\n",
       "  'state',\n",
       "  'describe'],\n",
       " ('writers', 'female'): ['bury',\n",
       "  'birth',\n",
       "  'attend',\n",
       "  'war',\n",
       "  'grow',\n",
       "  'serve',\n",
       "  'appear',\n",
       "  'raise',\n",
       "  'begin',\n",
       "  'divorce'],\n",
       " ('acting', 'male'): ['accuse',\n",
       "  'trip',\n",
       "  'fly',\n",
       "  'assault',\n",
       "  'endorse',\n",
       "  'meeting',\n",
       "  'donate',\n",
       "  'fight',\n",
       "  'arrest',\n",
       "  'found'],\n",
       " ('acting', 'female'): ['pregnant',\n",
       "  'practice',\n",
       "  'wedding',\n",
       "  'record',\n",
       "  'convert',\n",
       "  'honor',\n",
       "  'gain',\n",
       "  'retire',\n",
       "  'rap',\n",
       "  'bring'],\n",
       " ('comedians', 'male'): ['visit',\n",
       "  'create',\n",
       "  'spend',\n",
       "  'propose',\n",
       "  'lawsuit',\n",
       "  'accord',\n",
       "  'arrest',\n",
       "  'find',\n",
       "  'sell',\n",
       "  'admit'],\n",
       " ('comedians', 'female'): ['feel',\n",
       "  'birth',\n",
       "  'fall',\n",
       "  'open',\n",
       "  'decide',\n",
       "  'date',\n",
       "  'diagnose',\n",
       "  'tweet',\n",
       "  'study',\n",
       "  'turn'],\n",
       " ('podcasters', 'male'): ['play',\n",
       "  'write',\n",
       "  'bear',\n",
       "  'release',\n",
       "  'claim',\n",
       "  'birth',\n",
       "  'divorce',\n",
       "  'meet',\n",
       "  'announce',\n",
       "  'work'],\n",
       " ('podcasters', 'female'): ['date',\n",
       "  'describe',\n",
       "  'tell',\n",
       "  'life',\n",
       "  'come',\n",
       "  'leave',\n",
       "  'engage',\n",
       "  'live',\n",
       "  'start',\n",
       "  'reside'],\n",
       " ('dancers', 'male'): ['hold',\n",
       "  'involve',\n",
       "  'award',\n",
       "  'run',\n",
       "  'serve',\n",
       "  'adopt',\n",
       "  'charge',\n",
       "  'suit',\n",
       "  'struggle',\n",
       "  'perform'],\n",
       " ('dancers', 'female'): ['marry',\n",
       "  'describe',\n",
       "  'diagnose',\n",
       "  'expect',\n",
       "  'speak',\n",
       "  'post',\n",
       "  'attend',\n",
       "  'come',\n",
       "  'play',\n",
       "  'reside'],\n",
       " ('artists', 'male'): ['die', 'bear', 'married', 'marriage'],\n",
       " ('artists', 'female'): ['marriage', 'married', 'bear', 'die'],\n",
       " ('chefs', 'male'): ['birth',\n",
       "  'lose',\n",
       "  'divorce',\n",
       "  'speak',\n",
       "  'meet',\n",
       "  'work',\n",
       "  'diagnose',\n",
       "  'wedding',\n",
       "  'write',\n",
       "  'engage'],\n",
       " ('chefs', 'female'): ['death',\n",
       "  'serve',\n",
       "  'announce',\n",
       "  'describe',\n",
       "  'bear',\n",
       "  'die',\n",
       "  'life',\n",
       "  'state',\n",
       "  'marriage',\n",
       "  'live'],\n",
       " ('musicians', 'male'): ['live',\n",
       "  'meet',\n",
       "  'birth',\n",
       "  'marriage',\n",
       "  'married',\n",
       "  'die'],\n",
       " ('musicians', 'female'): ['die',\n",
       "  'married',\n",
       "  'meet',\n",
       "  'birth',\n",
       "  'marriage',\n",
       "  'live']}"
      ]
     },
     "execution_count": 31,
     "metadata": {},
     "output_type": "execute_result"
    }
   ],
   "source": [
    "import ast\n",
    "occu_gender_events = {}\n",
    "for line in events.split('\\n'):\n",
    "    if line.startswith('Occupation'):\n",
    "        occu = line[len('Occupation:  '):]\n",
    "    if line.startswith('male'):\n",
    "        evs = ast.literal_eval(line[len('male:  '):])\n",
    "        occu_gender_events[(occu, 'male')] = evs\n",
    "    elif line.startswith('female'):\n",
    "        evs = ast.literal_eval(line[len('female:  '):])\n",
    "        occu_gender_events[(occu, 'female')] = evs\n",
    "occu_gender_events"
   ]
  },
  {
   "cell_type": "code",
   "execution_count": 32,
   "metadata": {},
   "outputs": [
    {
     "name": "stdout",
     "output_type": "stream",
     "text": [
      "Writers & F & &   bury, birth, attend, war, grow \\\\\n",
      "       & M & &  know, report, come, charge, publish \\\\\n",
      "Acting & F & &   pregnant, practice, wedding, record, convert \\\\\n",
      "       & M & &  accuse, trip, fly, assault, endorse \\\\\n",
      "Comedians & F & &   feel, birth, fall, open, decide \\\\\n",
      "       & M & &  visit, create, spend, propose, lawsuit \\\\\n",
      "Podcasters & F & &   date, describe, tell, life, come \\\\\n",
      "       & M & &  play, write, bear, release, claim \\\\\n",
      "Dancers & F & &   marry, describe, diagnose, expect, speak \\\\\n",
      "       & M & &  hold, involve, award, run, serve \\\\\n",
      "Chefs & F & &   death, serve, announce, describe, bear \\\\\n",
      "       & M & &  birth, lose, divorce, speak, meet \\\\\n"
     ]
    }
   ],
   "source": [
    "new_occupations = [\"writers\", \"acting\", \"comedians\", \"podcasters\", \"dancers\",  \"chefs\"]\n",
    "for occu in new_occupations:\n",
    "    print(occu.capitalize(), '& F & &  ', ', '.join(occu_gender_events[(occu, 'female')][:5]), '\\\\\\\\')\n",
    "    print('       & M & & ', ', '.join(occu_gender_events[(occu, 'male')][:5]), '\\\\\\\\')"
   ]
  },
  {
   "cell_type": "code",
   "execution_count": null,
   "metadata": {},
   "outputs": [],
   "source": [
    "pocaster male bear"
   ]
  },
  {
   "cell_type": "code",
   "execution_count": 37,
   "metadata": {},
   "outputs": [],
   "source": [
    "from WEAT.weat import run_test, load_embedding"
   ]
  },
  {
   "cell_type": "code",
   "execution_count": 39,
   "metadata": {},
   "outputs": [
    {
     "name": "stdout",
     "output_type": "stream",
     "text": [
      "WEAT/embeddings/glove.840B.300d.processed.txt\n",
      "WEAT/embeddings/GoogleNews-vectors-negative300.bin\n"
     ]
    }
   ],
   "source": [
    "glove_embeddings = load_embedding('WEAT/embeddings/glove.840B.300d.processed.txt')\n",
    "w2v_embeddings = load_embedding('WEAT/embeddings/GoogleNews-vectors-negative300.bin')"
   ]
  },
  {
   "cell_type": "code",
   "execution_count": 40,
   "metadata": {},
   "outputs": [
    {
     "name": "stdout",
     "output_type": "stream",
     "text": [
      "writers glove 0.58 w2v 0.56\n",
      "acting glove 0.06 w2v -0.08\n",
      "comedians glove 0.55 w2v 0.28\n",
      "podcasters glove 0.26 w2v 0.02\n",
      "dancers glove 0.41 w2v 0.04\n",
      "artists glove 0.07 w2v -0.08\n",
      "chefs glove -0.73 w2v -0.17\n",
      "musicians glove -0.15 w2v 0.01\n"
     ]
    }
   ],
   "source": [
    "new_occupations = [\"writers\", \"acting\", \"comedians\", \"podcasters\", \"dancers\", \"artists\", \"chefs\", \"musicians\"]\n",
    "config = {}\n",
    "config['A'] = [\"male\", \"man\", \"boy\", \"brother\", \"he\", \"him\", \"his\", \"son\", \"father\", \"uncle\", \"grandfather\"]\n",
    "config['B'] = [\"female\", \"woman\", \"girl\", \"sister\", \"she\", \"her\", \"hers\", \"daughter\", \"mother\", \"aunt\", \"grandmother\"]\n",
    "\n",
    "for occu in new_occupations:\n",
    "    config['X'] = occu_gender_events[(occu, 'male')]\n",
    "    config['Y'] = occu_gender_events[(occu, 'female')]\n",
    "    glove_weat = run_test(config, glove_embeddings)\n",
    "    w2v_weat = run_test(config, w2v_embeddings)\n",
    "    print(f'{occu} glove {glove_weat[0]:.2f} w2v {w2v_weat[0]:.2f}')\n",
    "    "
   ]
  },
  {
   "cell_type": "code",
   "execution_count": 41,
   "metadata": {},
   "outputs": [
    {
     "name": "stdout",
     "output_type": "stream",
     "text": [
      "writers glove 0.34 w2v 0.34\n",
      "acting glove 0.49 w2v 0.20\n",
      "comedians glove 0.10 w2v -0.19\n",
      "podcasters glove 0.61 w2v 0.64\n",
      "dancers glove 0.78 w2v 0.42\n",
      "artists glove -0.10 w2v 0.10\n",
      "chefs glove -0.99 w2v -0.60\n",
      "musicians glove -0.24 w2v -0.36\n"
     ]
    }
   ],
   "source": [
    "new_occupations = [\"writers\", \"acting\", \"comedians\", \"podcasters\", \"dancers\", \"artists\", \"chefs\", \"musicians\"]\n",
    "config = {}\n",
    "config['A'] = [\"male\", \"man\", \"boy\", \"brother\", \"he\", \"him\", \"his\", \"son\", \"father\", \"uncle\", \"grandfather\"]\n",
    "config['B'] = [\"female\", \"woman\", \"girl\", \"sister\", \"she\", \"her\", \"hers\", \"daughter\", \"mother\", \"aunt\", \"grandmother\"]\n",
    "\n",
    "for occu in new_occupations:\n",
    "    config['X'] = occu_gender_events[(occu, 'male')][:5]\n",
    "    config['Y'] = occu_gender_events[(occu, 'female')][:5]\n",
    "    glove_weat = run_test(config, glove_embeddings)\n",
    "    w2v_weat = run_test(config, w2v_embeddings)\n",
    "    print(f'{occu} glove {glove_weat[0]:.2f} w2v {w2v_weat[0]:.2f}')\n",
    "    "
   ]
  },
  {
   "cell_type": "code",
   "execution_count": null,
   "metadata": {},
   "outputs": [],
   "source": []
  }
 ],
 "metadata": {
  "kernelspec": {
   "display_name": "Python 3",
   "language": "python",
   "name": "python3"
  },
  "language_info": {
   "codemirror_mode": {
    "name": "ipython",
    "version": 3
   },
   "file_extension": ".py",
   "mimetype": "text/x-python",
   "name": "python",
   "nbconvert_exporter": "python",
   "pygments_lexer": "ipython3",
   "version": "3.9.7"
  }
 },
 "nbformat": 4,
 "nbformat_minor": 5
}
